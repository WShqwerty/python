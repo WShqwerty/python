{
 "cells": [
  {
   "cell_type": "code",
   "execution_count": 1,
   "metadata": {},
   "outputs": [
    {
     "name": "stdout",
     "output_type": "stream",
     "text": [
      "hello\n"
     ]
    }
   ],
   "source": [
    "print('hello')"
   ]
  },
  {
   "cell_type": "markdown",
   "metadata": {},
   "source": [
    "## hello\n",
    "\n",
    "$$ s=2 $$\n"
   ]
  },
  {
   "cell_type": "code",
   "execution_count": 1,
   "metadata": {},
   "outputs": [
    {
     "name": "stdout",
     "output_type": "stream",
     "text": [
      "avg = 18.84955592153876\n"
     ]
    }
   ],
   "source": [
    "import math\n",
    "\n",
    "R = eval(input(\"please input a num:\"))\n",
    "\n",
    "avg = 2*math.pi*R\n",
    "\n",
    "print(f\"avg = {avg}\")"
   ]
  },
  {
   "cell_type": "markdown",
   "metadata": {},
   "source": [
    "selenium "
   ]
  },
  {
   "cell_type": "code",
   "execution_count": 32,
   "metadata": {},
   "outputs": [],
   "source": [
    "List_youtube = []"
   ]
  },
  {
   "cell_type": "code",
   "execution_count": 39,
   "metadata": {},
   "outputs": [
    {
     "name": "stderr",
     "output_type": "stream",
     "text": [
      "/tmp/ipykernel_20852/148922363.py:9: DeprecationWarning: find_elements_by_* commands are deprecated. Please use find_elements() instead\n",
      "  titles_get = driver.find_elements_by_id(\"video-title-link\")\n"
     ]
    },
    {
     "name": "stdout",
     "output_type": "stream",
     "text": [
      "{'title': 'Do you kids have any idea how fast you were going (SCOOB)', 'href': 'https://www.youtube.com/watch?v=Hsg1LRkzru0'}\n",
      "{'title': 'Coffee Jazz Music - Chill Out Lounge Jazz Music Radio - 24/7 Live Stream - Slow Jazz', 'href': 'https://www.youtube.com/watch?v=fEvM-OUbaKs'}\n",
      "{'title': '[ Full Video ] Building Two Story Villa With Private Underground Living Room and Swimming Pool', 'href': 'https://www.youtube.com/watch?v=lHMlLCMkuPE'}\n",
      "{'title': 'Fargo vs Size guess what? BET TIME once gain boys !!!', 'href': 'https://www.youtube.com/watch?v=-U7YrpDaOxQ'}\n",
      "{'title': 'TOP 40 Songs of 2021 2022 (Best Hit Music Playlist) on Spotify', 'href': 'https://www.youtube.com/watch?v=mnc9pvuvSuk'}\n",
      "{'title': 'The technique this worker found shocked even NASA. Incredible.', 'href': 'https://www.youtube.com/watch?v=oaMLwWdbcwQ'}\n",
      "{'title': 'Dortmund vs Rangers (2-4) | Gers Stun German Giants For Epic European Win | Europa League Highlights', 'href': 'https://www.youtube.com/watch?v=seylFz5vpBQ'}\n",
      "{'title': 'Barcelona vs Napoli (1-1) | Torres Bags First Camp Nou Goal | Europa League Highlights', 'href': 'https://www.youtube.com/watch?v=7bjWP5NNM8Q'}\n",
      "{'title': 'Baz Luhrmann’s ELVIS | Official Trailer', 'href': 'https://www.youtube.com/watch?v=wBDLRvjHVOY'}\n",
      "{'title': 'Robert Pattinson on Playing Batman, Tom Holland Manifesting Spider-Man & Advice From Christian Bale', 'href': 'https://www.youtube.com/watch?v=TO6a_5e5M3U'}\n",
      "{'title': 'YOUTUBER COOK OFF VS OLIVIA NEILL!', 'href': 'https://www.youtube.com/watch?v=TU2AJn0RqFQ'}\n",
      "{'title': 'LAZAR vs SIDEMEN', 'href': 'https://www.youtube.com/watch?v=e6M1juzA-wU'}\n",
      "{'title': 'Introducing the Scuderia Ferrari F1-75 | 2022 #F1 Car Launch', 'href': 'https://www.youtube.com/watch?v=eCEXpukJTIs'}\n",
      "{'title': '\"I\\'m Here!\": The Queen Meets Her Defence Secretaries', 'href': 'https://www.youtube.com/watch?v=J9wwCCTI9cw'}\n",
      "{'title': 'Minecraft, But The World Is XP...', 'href': 'https://www.youtube.com/watch?v=TKX8J7__7cA'}\n",
      "{'title': \"Ferrari's GENIUS Sidepod Design\", 'href': 'https://www.youtube.com/watch?v=ryXs0Lhmy10'}\n",
      "{'title': '\"Upside Down (feat. Tim Henson)\" - Jason Richardson & Luke Holland', 'href': 'https://www.youtube.com/watch?v=c7T0TPBYGjs'}\n",
      "{'title': \"I challenged Minecraft's Best Speedrunner to a test of skill\", 'href': 'https://www.youtube.com/watch?v=U9KnNktuZnM'}\n",
      "{'title': 'Funniest Celebrity Bloopers on Live TV', 'href': 'https://www.youtube.com/watch?v=c24dj_m8JmA'}\n",
      "{'title': 'Comedy Moments In Football', 'href': 'https://www.youtube.com/watch?v=2sxEsG64CsY'}\n",
      "{'title': \"100 Days but it's a Single Chunk\", 'href': 'https://www.youtube.com/watch?v=cNu8U3hAfzA'}\n",
      "{'title': 'iPhone 14: Big Changes Revealed', 'href': 'https://www.youtube.com/watch?v=0RYbs4oeBpc'}\n",
      "{'title': 'Chillout Lounge - Calm & Relaxing Background Music | Study, Work, Sleep, Meditation, Chill', 'href': 'https://www.youtube.com/watch?v=erJAduG46ac'}\n",
      "{'title': 'Watch: Landslide Crushes a Home', 'href': 'https://www.youtube.com/watch?v=0XCuk5Q4i6E'}\n",
      "{'title': \"Covid-19 UK: Sajid Javid says vaccines for over-fives 'safe but not very urgent'\", 'href': 'https://www.youtube.com/watch?v=sttXPCbbPfo'}\n",
      "{'title': \"COVID-19 UK - Northern Ireland ends legal restrictions but warns 'this is not the end'\", 'href': 'https://www.youtube.com/watch?v=oih3h0Iz85k'}\n",
      "{'title': 'All UK children aged 5 -11 offered COVID vaccine', 'href': 'https://www.youtube.com/watch?v=wUUWMjeLjVw'}\n",
      "{'title': 'All UK children aged five to 11 to be offered Covid vaccine | ITV News', 'href': 'https://www.youtube.com/watch?v=DOy3w1vFSM0'}\n",
      "{'title': 'Hong Kong hospitals buckle under omicron surge', 'href': 'https://www.youtube.com/watch?v=Ahm67iKqObA'}\n",
      "{'title': 'COVID-19 - Sajid Javid announces all five to 11-year-olds to be offered Covid vaccine', 'href': 'https://www.youtube.com/watch?v=7rzD3J9ydV8'}\n",
      "{'title': 'Sky News Breakfast: A red weather warning for parts of the UK as Storm Eunice hits', 'href': 'https://www.youtube.com/watch?v=cKHHgYj8nac'}\n",
      "{'title': \"COVID rules: 'Mistake' to stop free COVID tests and isolation, say NHS leaders\", 'href': 'https://www.youtube.com/watch?v=sEeW_TbMJPk'}\n",
      "{'title': 'COVID-19: Hong Kong struggles to cope with virus surge', 'href': 'https://www.youtube.com/watch?v=_pa5yHiP9ks'}\n",
      "{'title': 'Beautiful Art Hacks and Easy Crafts You Will Love', 'href': 'https://www.youtube.com/watch?v=-kzNP6F8vBc'}\n",
      "{'title': '[PLAYLIST GOSPEL INTERNACIONAL] Hillsong 2021 - 3 Horas', 'href': 'https://www.youtube.com/watch?v=aM6RNRnFTfU'}\n",
      "{'title': 'Idiots In Cars #10', 'href': 'https://www.youtube.com/watch?v=eB2OpurOFhk'}\n",
      "{'title': \"We Don't Talk About Apple Bottom Jeans\", 'href': 'https://www.youtube.com/watch?v=drVQdw6oQ6U'}\n",
      "{'title': 'The Good Life Radio\\xa0•\\xa024/7 Live Radio | Best Relax House, Chillout, Study, Running, Gym, Happy Music', 'href': 'https://www.youtube.com/watch?v=36YnV9STBqc'}\n",
      "{'title': 'What Will Actually Happen if Russia Invades Ukraine', 'href': 'https://www.youtube.com/watch?v=pzvbUpKU4eE'}\n",
      "{'title': 'Relaxing Whiskey Blues Music | Best Of Slow Blues /Rock Ballads | Fantastic Electric Guitar Blues', 'href': 'https://www.youtube.com/watch?v=vTkUlqFqWpc'}\n",
      "{'title': 'Pawn Stars: 5 SUPER HIGH PRICE APPRAISALS (Big Offers WAY Over Asking)', 'href': 'https://www.youtube.com/watch?v=K0GPCmm1F3o'}\n",
      "{'title': \"We're Back! -  H3TV #21\", 'href': 'https://www.youtube.com/watch?v=sHrEyuHHM9U'}\n",
      "{'title': '', 'href': None}\n"
     ]
    }
   ],
   "source": [
    "from selenium import webdriver\n",
    "from time import sleep\n",
    "\n",
    "try:\n",
    "    driver = webdriver.Chrome()\n",
    "\n",
    "    driver.get('https://www.youtube.com')\n",
    "\n",
    "    titles_get = driver.find_elements_by_id(\"video-title-link\")\n",
    "    sleep(5)\n",
    "    \n",
    "    for title_get in titles_get:\n",
    "        youtube = {\n",
    "            \"title\": title_get.get_attribute(\"title\"), \n",
    "            \"href\" : title_get.get_attribute(\"href\")\n",
    "        }\n",
    "        print(youtube)\n",
    "        List_youtube.append(youtube)\n",
    "finally:\n",
    "    driver.quit()"
   ]
  },
  {
   "cell_type": "markdown",
   "metadata": {},
   "source": [
    "test dict"
   ]
  },
  {
   "cell_type": "code",
   "execution_count": 40,
   "metadata": {},
   "outputs": [
    {
     "name": "stdout",
     "output_type": "stream",
     "text": [
      "Do you kids have any idea how fast you were going (SCOOB)\n",
      "Coffee Jazz Music - Chill Out Lounge Jazz Music Radio - 24/7 Live Stream - Slow Jazz\n",
      "[ Full Video ] Building Two Story Villa With Private Underground Living Room and Swimming Pool\n",
      "Fargo vs Size guess what? BET TIME once gain boys !!!\n",
      "TOP 40 Songs of 2021 2022 (Best Hit Music Playlist) on Spotify\n",
      "The technique this worker found shocked even NASA. Incredible.\n",
      "Dortmund vs Rangers (2-4) | Gers Stun German Giants For Epic European Win | Europa League Highlights\n",
      "Barcelona vs Napoli (1-1) | Torres Bags First Camp Nou Goal | Europa League Highlights\n",
      "Baz Luhrmann’s ELVIS | Official Trailer\n",
      "Robert Pattinson on Playing Batman, Tom Holland Manifesting Spider-Man & Advice From Christian Bale\n",
      "YOUTUBER COOK OFF VS OLIVIA NEILL!\n",
      "LAZAR vs SIDEMEN\n",
      "Introducing the Scuderia Ferrari F1-75 | 2022 #F1 Car Launch\n",
      "\"I'm Here!\": The Queen Meets Her Defence Secretaries\n",
      "Minecraft, But The World Is XP...\n",
      "Ferrari's GENIUS Sidepod Design\n",
      "\"Upside Down (feat. Tim Henson)\" - Jason Richardson & Luke Holland\n",
      "I challenged Minecraft's Best Speedrunner to a test of skill\n",
      "Funniest Celebrity Bloopers on Live TV\n",
      "Comedy Moments In Football\n",
      "100 Days but it's a Single Chunk\n",
      "iPhone 14: Big Changes Revealed\n",
      "Chillout Lounge - Calm & Relaxing Background Music | Study, Work, Sleep, Meditation, Chill\n",
      "Watch: Landslide Crushes a Home\n",
      "Covid-19 UK: Sajid Javid says vaccines for over-fives 'safe but not very urgent'\n",
      "COVID-19 UK - Northern Ireland ends legal restrictions but warns 'this is not the end'\n",
      "All UK children aged 5 -11 offered COVID vaccine\n",
      "All UK children aged five to 11 to be offered Covid vaccine | ITV News\n",
      "Hong Kong hospitals buckle under omicron surge\n",
      "COVID-19 - Sajid Javid announces all five to 11-year-olds to be offered Covid vaccine\n",
      "Sky News Breakfast: A red weather warning for parts of the UK as Storm Eunice hits\n",
      "COVID rules: 'Mistake' to stop free COVID tests and isolation, say NHS leaders\n",
      "COVID-19: Hong Kong struggles to cope with virus surge\n",
      "Beautiful Art Hacks and Easy Crafts You Will Love\n",
      "[PLAYLIST GOSPEL INTERNACIONAL] Hillsong 2021 - 3 Horas\n",
      "Idiots In Cars #10\n",
      "We Don't Talk About Apple Bottom Jeans\n",
      "The Good Life Radio • 24/7 Live Radio | Best Relax House, Chillout, Study, Running, Gym, Happy Music\n",
      "What Will Actually Happen if Russia Invades Ukraine\n",
      "Relaxing Whiskey Blues Music | Best Of Slow Blues /Rock Ballads | Fantastic Electric Guitar Blues\n",
      "Pawn Stars: 5 SUPER HIGH PRICE APPRAISALS (Big Offers WAY Over Asking)\n",
      "We're Back! -  H3TV #21\n",
      "\n"
     ]
    }
   ],
   "source": [
    "for i in List_youtube:\n",
    "    print(i[\"title\"])"
   ]
  },
  {
   "cell_type": "markdown",
   "metadata": {},
   "source": [
    "数据库"
   ]
  },
  {
   "cell_type": "code",
   "execution_count": 42,
   "metadata": {},
   "outputs": [
    {
     "name": "stdout",
     "output_type": "stream",
     "text": [
      "done\n",
      "done\n",
      "done\n",
      "done\n",
      "done\n",
      "done\n",
      "done\n",
      "done\n",
      "done\n",
      "done\n",
      "done\n",
      "done\n",
      "done\n",
      "done\n",
      "done\n",
      "done\n",
      "done\n",
      "done\n",
      "done\n",
      "done\n",
      "done\n",
      "done\n",
      "done\n",
      "done\n",
      "done\n",
      "done\n",
      "done\n",
      "done\n",
      "done\n",
      "done\n",
      "done\n",
      "done\n",
      "done\n",
      "done\n",
      "done\n",
      "done\n",
      "done\n",
      "done\n",
      "done\n",
      "done\n",
      "done\n",
      "done\n",
      "done\n"
     ]
    }
   ],
   "source": [
    "import mysql.connector\n",
    "\n",
    "try:\n",
    "    mydb = mysql.connector.connect(\n",
    "        host = \"localhost\",\n",
    "        user = \"root\",\n",
    "        passwd = \"Wsh.123456\",\n",
    "        database = \"work_test1\"\n",
    "    )\n",
    "\n",
    "    mycursor = mydb.cursor()\n",
    "\n",
    "    for i in List_youtube:\n",
    "        sql = \"insert into youtube (title, href) values (%s, %s)\"\n",
    "        val = (i[\"title\"], i[\"href\"])\n",
    "        print(\"done\")\n",
    "        mycursor.execute(sql, val)\n",
    "        mydb.commit()\n",
    "finally:\n",
    "    mycursor.close()\n",
    "    mydb.close()\n",
    "\n"
   ]
  }
 ],
 "metadata": {
  "interpreter": {
   "hash": "916dbcbb3f70747c44a77c7bcd40155683ae19c65e1c03b4aa3499c5328201f1"
  },
  "kernelspec": {
   "display_name": "Python 3.8.10 64-bit",
   "language": "python",
   "name": "python3"
  },
  "language_info": {
   "codemirror_mode": {
    "name": "ipython",
    "version": 3
   },
   "file_extension": ".py",
   "mimetype": "text/x-python",
   "name": "python",
   "nbconvert_exporter": "python",
   "pygments_lexer": "ipython3",
   "version": "3.8.10"
  },
  "orig_nbformat": 4
 },
 "nbformat": 4,
 "nbformat_minor": 2
}
